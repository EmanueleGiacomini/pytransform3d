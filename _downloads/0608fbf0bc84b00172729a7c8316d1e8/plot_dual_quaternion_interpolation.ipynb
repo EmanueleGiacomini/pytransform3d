{
  "cells": [
    {
      "cell_type": "code",
      "execution_count": null,
      "metadata": {
        "collapsed": false
      },
      "outputs": [],
      "source": [
        "%matplotlib inline"
      ]
    },
    {
      "cell_type": "markdown",
      "metadata": {},
      "source": [
        "\n# Dual Quaternion Interpolation\n\nThis example shows interpolated trajectories between two random poses.\nThe red line corresponds to linear interpolation with exponential coordinates,\nthe green line corresponds to linear interpolation with dual quaternions,\nand the blue line corresponds to screw linear interpolation (ScLERP) with\ndual quaternions. The true screw motion from pose 1 to pose 2 is shown by\na thick, transparent black line in the background of the ScLERP interpolation.\n"
      ]
    },
    {
      "cell_type": "code",
      "execution_count": null,
      "metadata": {
        "collapsed": false
      },
      "outputs": [],
      "source": [
        "import numpy as np\nimport matplotlib.pyplot as plt\nimport pytransform3d.transformations as pt\nimport pytransform3d.trajectories as ptr\nimport pytransform3d.plot_utils as ppu\n\n\nrng = np.random.default_rng(25)\npose1 = pt.random_transform(rng)\npose2 = pt.random_transform(rng)\ndq1 = pt.dual_quaternion_from_transform(pose1)\ndq2 = -pt.dual_quaternion_from_transform(pose2)\nStheta1 = pt.exponential_coordinates_from_transform(pose1)\nStheta2 = pt.exponential_coordinates_from_transform(pose2)\n\nn_steps = 100\n\n# Ground truth screw motion: linear interpolation of rotation about and\n# translation along the screw axis\npose12pose2 = pt.concat(pose2, pt.invert_transform(pose1))\nscrew_axis, theta = pt.screw_axis_from_exponential_coordinates(\n    pt.exponential_coordinates_from_transform(pose12pose2))\noffsets = np.array(\n    [pt.transform_from_exponential_coordinates(screw_axis * t * theta)\n     for t in np.linspace(0, 1, n_steps)])\ninterpolated_poses = np.array([\n    pt.concat(offset, pose1) for offset in offsets])\n\n# Linear interpolation of dual quaternions\ninterpolated_dqs = (np.linspace(1, 0, n_steps)[:, np.newaxis] * dq1 +\n                    np.linspace(0, 1, n_steps)[:, np.newaxis] * dq2)\n# renormalization (not required here because it will be done with conversion)\ninterpolated_dqs /= np.linalg.norm(\n    interpolated_dqs[:, :4], axis=1)[:, np.newaxis]\ninterpolated_poses_from_dqs = np.array([\n    pt.transform_from_dual_quaternion(dq) for dq in interpolated_dqs])\n\n# Screw linear interpolation of dual quaternions (ScLERP)\nsclerp_interpolated_dqs = np.vstack([\n    pt.dual_quaternion_sclerp(dq1, dq2, t)\n    for t in np.linspace(0, 1, n_steps)])\nsclerp_interpolated_poses_from_dqs = np.array([\n    pt.transform_from_dual_quaternion(dq) for dq in sclerp_interpolated_dqs])\n\n# Linear interpolation of exponential coordinates\ninterpolated_ecs = (np.linspace(1, 0, n_steps)[:, np.newaxis] * Stheta1 +\n                    np.linspace(0, 1, n_steps)[:, np.newaxis] * Stheta2)\ninterpolates_poses_from_ecs = ptr.transforms_from_exponential_coordinates(\n    interpolated_ecs)\n\nax = pt.plot_transform(A2B=pose1, s=0.3, ax_s=2)\npt.plot_transform(A2B=pose2, s=0.3, ax=ax)\ntraj = ppu.Trajectory(interpolated_poses, s=0.1, c=\"k\", lw=5, alpha=0.5)\ntraj.add_trajectory(ax)\ntraj_from_dqs = ppu.Trajectory(interpolated_poses_from_dqs, s=0.1, c=\"g\")\ntraj_from_dqs.add_trajectory(ax)\ntraj_from_ecs = ppu.Trajectory(interpolates_poses_from_ecs, s=0.1, c=\"r\")\ntraj_from_ecs.add_trajectory(ax)\ntraj_from_dqs_sclerp = ppu.Trajectory(\n    sclerp_interpolated_poses_from_dqs, s=0.1, c=\"b\")\ntraj_from_dqs_sclerp.add_trajectory(ax)\nplt.legend(\n    [traj.trajectory, traj_from_dqs.trajectory, traj_from_ecs.trajectory,\n     traj_from_dqs_sclerp.trajectory],\n    [\"Screw interpolation\", \"Linear dual quaternion interpolation\",\n     \"Linear interpolation of exp. coordinates\", \"Dual quaternion ScLERP\"])\nplt.show()"
      ]
    }
  ],
  "metadata": {
    "kernelspec": {
      "display_name": "Python 3",
      "language": "python",
      "name": "python3"
    },
    "language_info": {
      "codemirror_mode": {
        "name": "ipython",
        "version": 3
      },
      "file_extension": ".py",
      "mimetype": "text/x-python",
      "name": "python",
      "nbconvert_exporter": "python",
      "pygments_lexer": "ipython3",
      "version": "3.9.13"
    }
  },
  "nbformat": 4,
  "nbformat_minor": 0
}