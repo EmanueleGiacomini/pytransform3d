{
  "cells": [
    {
      "cell_type": "code",
      "execution_count": null,
      "metadata": {
        "collapsed": false
      },
      "outputs": [],
      "source": [
        "%matplotlib inline"
      ]
    },
    {
      "cell_type": "markdown",
      "metadata": {},
      "source": [
        "\n# Concatenate Uncertain Transforms\n\nEach of the poses has an associated covariance that is considered.\nIn this example, we assume that a robot is moving with constant velocity\nalong the x-axis, however, there is noise in the orientation of the robot\nthat accumulates and leads to different paths when sampling. Uncertainty\naccumulation leads to the so-called banana distribution, which does not seem\nGaussian in Cartesian space, but it is Gaussian in exponential coordinate\nspace of SO(3).\n\nThis example adapted and modified to 3D from\n\nBarfoot, Furgale: Associating Uncertainty With Three-Dimensional Poses for Use\nin Estimation Problems, http://ncfrn.mcgill.ca/members/pubs/barfoot_tro14.pdf\n\nThe banana distribution was analyzed in detail by\n\nLong, Wolfe, Mashner, Chirikjian: The Banana Distribution is Gaussian:\nA Localization Study with Exponential Coordinates,\nhttp://www.roboticsproceedings.org/rss08/p34.pdf\n"
      ]
    },
    {
      "cell_type": "code",
      "execution_count": null,
      "metadata": {
        "collapsed": false
      },
      "outputs": [],
      "source": [
        "import numpy as np\nimport matplotlib.pyplot as plt\nimport pytransform3d.transformations as pt\nimport pytransform3d.trajectories as ptr\nimport pytransform3d.uncertainty as pu\nimport pytransform3d.plot_utils as ppu\n\n\nrng = np.random.default_rng(0)\ncov_pose_chol = np.diag([0, 0.02, 0.03, 0, 0, 0])\ncov_pose = np.dot(cov_pose_chol, cov_pose_chol.T)\nvelocity_vector = np.array([0, 0, 0, 1.0, 0, 0])\nT_vel = pt.transform_from_exponential_coordinates(velocity_vector)\nn_steps = 100\nn_mc_samples = 1000\nn_skip_trajectories = 1  # plot every n-th trajectory\n\nT_est = np.eye(4)\npath = np.zeros((n_steps + 1, 6))\npath[0] = pt.exponential_coordinates_from_transform(T_est)\ncov_est = np.zeros((6, 6))\nfor t in range(n_steps):\n    T_est, cov_est = pu.concat_globally_uncertain_transforms(\n        T_est, cov_est, T_vel, cov_pose)\n    path[t + 1] = pt.exponential_coordinates_from_transform(T_est)\n\nT = np.eye(4)\nmc_path = np.zeros((n_steps + 1, n_mc_samples, 4, 4))\nmc_path[0, :] = T\nfor t in range(n_steps):\n    noise_samples = ptr.transforms_from_exponential_coordinates(\n        cov_pose_chol.dot(rng.standard_normal(size=(6, n_mc_samples))).T)\n    step_samples = ptr.concat_many_to_one(noise_samples, T_vel)\n    mc_path[t + 1] = np.einsum(\"nij,njk->nik\", step_samples, mc_path[t])\n# Plot the random samples' trajectory lines (in a frame attached to the start)\n# same as mc_path[t, i, :3, :3].T.dot(mc_path[t, i, :3, 3]), but faster\nmc_path_vec = np.einsum(\n    \"tinm,tin->tim\", mc_path[:, :, :3, :3], mc_path[:, :, :3, 3])\n\nax = ppu.make_3d_axis(100)\n\nfor i in range(0, mc_path_vec.shape[1], n_skip_trajectories):\n    ax.plot(\n        mc_path_vec[:, i, 0], mc_path_vec[:, i, 1], mc_path_vec[:, i, 2],\n        lw=1, c=\"b\", alpha=0.05)\nax.scatter(\n    mc_path_vec[-1, :, 0], mc_path_vec[-1, :, 1], mc_path_vec[-1, :, 2],\n    s=3, c=\"b\")\n\nptr.plot_trajectory(ax, ptr.pqs_from_transforms(\n    ptr.transforms_from_exponential_coordinates(path)), s=5.0, lw=3)\n\npu.plot_projected_ellipsoid(\n    ax, T_est, cov_est, wireframe=False, alpha=0.3, color=\"y\", factor=3.0)\npu.plot_projected_ellipsoid(\n    ax, T_est, cov_est, wireframe=True, alpha=0.5, color=\"y\", factor=3.0)\n\nmean_mc = np.mean(mc_path_vec[-1, :], axis=0)\ncov_mc = np.cov(mc_path_vec[-1, :], rowvar=False)\n\nellipsoid2origin, radii = pu.to_ellipsoid(mean_mc, cov_mc)\nppu.plot_ellipsoid(\n    ax, 3.0 * radii, ellipsoid2origin, wireframe=False, alpha=0.1, color=\"m\")\nppu.plot_ellipsoid(\n    ax, 3.0 * radii, ellipsoid2origin, wireframe=True, alpha=0.3, color=\"m\")\n\nplt.xlim((-5, 105))\nplt.ylim((-50, 50))\nplt.xlabel(\"x\")\nplt.ylabel(\"y\")\nax.view_init(elev=70, azim=-90)\nplt.show()"
      ]
    }
  ],
  "metadata": {
    "kernelspec": {
      "display_name": "Python 3",
      "language": "python",
      "name": "python3"
    },
    "language_info": {
      "codemirror_mode": {
        "name": "ipython",
        "version": 3
      },
      "file_extension": ".py",
      "mimetype": "text/x-python",
      "name": "python",
      "nbconvert_exporter": "python",
      "pygments_lexer": "ipython3",
      "version": "3.9.13"
    }
  },
  "nbformat": 4,
  "nbformat_minor": 0
}