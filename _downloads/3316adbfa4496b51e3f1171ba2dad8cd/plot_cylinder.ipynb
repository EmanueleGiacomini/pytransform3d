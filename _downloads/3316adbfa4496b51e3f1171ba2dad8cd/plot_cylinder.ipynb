{
  "cells": [
    {
      "cell_type": "code",
      "execution_count": null,
      "metadata": {
        "collapsed": false
      },
      "outputs": [],
      "source": [
        "%matplotlib inline"
      ]
    },
    {
      "cell_type": "markdown",
      "metadata": {},
      "source": [
        "\n# Plot Transformed Cylinders\n\nPlots surfaces of transformed cylindrical shells.\n"
      ]
    },
    {
      "cell_type": "code",
      "execution_count": null,
      "metadata": {
        "collapsed": false
      },
      "outputs": [],
      "source": [
        "print(__doc__)\n\n\nimport numpy as np\nimport matplotlib.pyplot as plt\nfrom pytransform3d.transformations import transform_from, plot_transform\nfrom pytransform3d.rotations import random_axis_angle, matrix_from_axis_angle\nfrom pytransform3d.plot_utils import plot_cylinder, remove_frame\n\n\nrandom_state = np.random.RandomState(42)\nA2B = transform_from(\n    R=matrix_from_axis_angle(random_axis_angle(random_state)),\n    p=random_state.randn(3))\nax = plot_cylinder(length=1.0, radius=0.3, thickness=0.1,\n                   wireframe=False, alpha=0.2)\nplot_transform(ax=ax, A2B=np.eye(4), s=0.3, lw=3)\nplot_cylinder(ax=ax, length=1.0, radius=0.3, thickness=0.1, A2B=A2B,\n              wireframe=False, alpha=0.2)\nplot_transform(ax=ax, A2B=A2B, s=0.3, lw=3)\nremove_frame(ax)\nax.set_xlim((0, 1.5))\nax.set_ylim((-1.5, 0))\nax.set_zlim((-0.8, 0.7))\nplt.show()"
      ]
    }
  ],
  "metadata": {
    "kernelspec": {
      "display_name": "Python 3",
      "language": "python",
      "name": "python3"
    },
    "language_info": {
      "codemirror_mode": {
        "name": "ipython",
        "version": 3
      },
      "file_extension": ".py",
      "mimetype": "text/x-python",
      "name": "python",
      "nbconvert_exporter": "python",
      "pygments_lexer": "ipython3",
      "version": "3.8.2"
    }
  },
  "nbformat": 4,
  "nbformat_minor": 0
}