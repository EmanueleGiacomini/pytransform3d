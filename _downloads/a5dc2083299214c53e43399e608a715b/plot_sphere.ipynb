{
  "cells": [
    {
      "cell_type": "code",
      "execution_count": null,
      "metadata": {
        "collapsed": false
      },
      "outputs": [],
      "source": [
        "%matplotlib inline"
      ]
    },
    {
      "cell_type": "markdown",
      "metadata": {},
      "source": [
        "\n# Plot Sphere\n"
      ]
    },
    {
      "cell_type": "code",
      "execution_count": null,
      "metadata": {
        "collapsed": false
      },
      "outputs": [],
      "source": [
        "print(__doc__)\n\n\nimport numpy as np\nimport matplotlib.pyplot as plt\nfrom pytransform3d.transformations import plot_transform\nfrom pytransform3d.plot_utils import plot_sphere, remove_frame\n\n\nrandom_state = np.random.RandomState(42)\nax = plot_sphere(\n    radius=0.5, wireframe=False, alpha=0.1, color=\"k\", n_steps=20, ax_s=0.5)\nplot_sphere(ax=ax, radius=0.5, wireframe=True)\nplot_transform(ax=ax, A2B=np.eye(4), s=0.3, lw=3)\nremove_frame(ax)\nplt.show()"
      ]
    }
  ],
  "metadata": {
    "kernelspec": {
      "display_name": "Python 3",
      "language": "python",
      "name": "python3"
    },
    "language_info": {
      "codemirror_mode": {
        "name": "ipython",
        "version": 3
      },
      "file_extension": ".py",
      "mimetype": "text/x-python",
      "name": "python",
      "nbconvert_exporter": "python",
      "pygments_lexer": "ipython3",
      "version": "3.8.2"
    }
  },
  "nbformat": 4,
  "nbformat_minor": 0
}