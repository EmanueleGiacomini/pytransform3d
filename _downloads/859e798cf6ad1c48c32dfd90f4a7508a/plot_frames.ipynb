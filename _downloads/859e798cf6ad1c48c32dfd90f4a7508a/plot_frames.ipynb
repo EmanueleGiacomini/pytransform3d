{
  "cells": [
    {
      "cell_type": "code",
      "execution_count": null,
      "metadata": {
        "collapsed": false
      },
      "outputs": [],
      "source": [
        "%matplotlib inline"
      ]
    },
    {
      "cell_type": "markdown",
      "metadata": {},
      "source": [
        "\n# Plot with Respect to Different Reference Frames\n\nIn this example, we will demonstrate how to use the TransformManager.\nWe will add several transforms to the manager and plot all frames in\ntwo reference frames ('world' and 'A').\n"
      ]
    },
    {
      "cell_type": "code",
      "execution_count": null,
      "metadata": {
        "collapsed": false
      },
      "outputs": [],
      "source": [
        "print(__doc__)\n\n\nimport numpy as np\nimport matplotlib.pyplot as plt\nfrom pytransform3d.plot_utils import make_3d_axis\nfrom pytransform3d.transformations import random_transform\nfrom pytransform3d.transform_manager import TransformManager\n\n\nrandom_state = np.random.RandomState(0)\nA2world = random_transform(random_state)\nB2world = random_transform(random_state)\nA2C = random_transform(random_state)\nD2B = random_transform(random_state)\n\ntm = TransformManager()\ntm.add_transform(\"A\", \"world\", A2world)\ntm.add_transform(\"B\", \"world\", B2world)\ntm.add_transform(\"A\", \"C\", A2C)\ntm.add_transform(\"D\", \"B\", D2B)\n\nplt.figure(figsize=(10, 5))\n\nax = make_3d_axis(3, 121)\nax = tm.plot_frames_in(\"world\", ax=ax, alpha=0.6)\nax.view_init(30, 20)\n\nax = make_3d_axis(3, 122)\nax = tm.plot_frames_in(\"A\", ax=ax, alpha=0.6)\nax.view_init(30, 20)\n\nplt.show()"
      ]
    }
  ],
  "metadata": {
    "kernelspec": {
      "display_name": "Python 3",
      "language": "python",
      "name": "python3"
    },
    "language_info": {
      "codemirror_mode": {
        "name": "ipython",
        "version": 3
      },
      "file_extension": ".py",
      "mimetype": "text/x-python",
      "name": "python",
      "nbconvert_exporter": "python",
      "pygments_lexer": "ipython3",
      "version": "3.8.2"
    }
  },
  "nbformat": 4,
  "nbformat_minor": 0
}