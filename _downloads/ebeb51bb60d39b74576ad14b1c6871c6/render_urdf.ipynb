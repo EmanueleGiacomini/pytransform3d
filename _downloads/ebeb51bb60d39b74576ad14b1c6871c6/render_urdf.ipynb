{
  "cells": [
    {
      "cell_type": "code",
      "execution_count": null,
      "metadata": {
        "collapsed": false
      },
      "outputs": [],
      "source": [
        "%matplotlib inline"
      ]
    },
    {
      "cell_type": "markdown",
      "metadata": {},
      "source": [
        "\n# Render URDF\n\nUse pyrender to show URDF file. You can get pyrender from\n\n    https://github.com/mmatl/pyrender\n\nor from pip. Make sure to run this from the main folder of pytransform3d.\nWe will load a simple URDF file but the script is able to display other\nURDF files, too. Just change the paths at the end of this file.\n\nRead pyrenders readme for a list of commands that you can use to control\nthe viewer.\n"
      ]
    },
    {
      "cell_type": "code",
      "execution_count": null,
      "metadata": {
        "collapsed": false
      },
      "outputs": [],
      "source": [
        "try:\n    import pyrender as pr\nexcept ImportError:\n    print(\"This example needs 'pyrender'\")\n    exit(1)\nimport numpy as np\nimport trimesh\nfrom pytransform3d import urdf\nfrom pytransform3d.transformations import transform\n\n\ndef show_urdf_transform_manager(tm, frame, collision_objects=False,\n                                visuals=False, frames=False, s=1.0):\n    \"\"\"Render URDF file with pyrender.\n\n    Parameters\n    ----------\n    tm : UrdfTransformManager\n        Transformation manager\n\n    frame : str\n        Base frame for rendering\n\n    collision_objects : bool, optional (default: False)\n        Render collision objects\n\n    visuals : bool, optional (default: False)\n        Render visuals\n\n    frames : bool, optional (default: False)\n        Render frames\n\n    s : float, optional (default: 1)\n        Axis scale\n    \"\"\"\n    scene = pr.Scene()\n    if collision_objects:\n        if hasattr(tm, \"collision_objects\"):\n            _add_objects(scene, tm, tm.collision_objects, frame)\n    if visuals:\n        if hasattr(tm, \"visuals\"):\n            _add_objects(scene, tm, tm.visuals, frame)\n    if frames:\n        for node in tm.nodes:\n            _add_frame(scene, tm, node, frame, s)\n    pr.Viewer(scene, use_raymond_lighting=True)\n\n\ndef _add_objects(scene, tm, objects, frame):\n    for obj in objects:\n        obj.show(scene, tm, frame)\n\n\ndef _add_frame(scene, tm, from_frame, to_frame, s=1.0):\n    axis_mesh = pr.Mesh.from_trimesh(\n        trimesh.creation.axis(\n            origin_size=s * 0.1, axis_radius=s * 0.05, axis_length=s),\n        smooth=False)\n    n = pr.node.Node(\n        mesh=axis_mesh, matrix=tm.get_transform(from_frame, to_frame),\n        scale=np.ones(3) * s)\n    scene.add_node(n)\n\n\n# We modify the shape objects to include a function that renders them\n\n\ndef box_show(self, scene, tm, frame):\n    \"\"\"Render box.\"\"\"\n    A2B = tm.get_transform(self.frame, frame)\n\n    corners = np.array([\n        [0, 0, 0],\n        [0, 0, 1],\n        [0, 1, 0],\n        [0, 1, 1],\n        [1, 0, 0],\n        [1, 0, 1],\n        [1, 1, 0],\n        [1, 1, 1]\n    ])\n    corners = (corners - 0.5) * self.size\n    corners = transform(\n        A2B, np.hstack((corners, np.ones((len(corners), 1)))))[:, :3]\n\n    mesh = trimesh.Trimesh(\n        vertices=corners,\n        faces=[[0, 1, 2], [2, 3, 4], [4, 5, 6], [6, 7, 0]]).bounding_box\n\n    mesh = pr.Mesh.from_trimesh(mesh)\n    scene.add(mesh)\n\n\nurdf.Box.show = box_show\n\n\ndef sphere_show(self, scene, tm, frame):\n    \"\"\"Render sphere.\"\"\"\n    A2B = tm.get_transform(self.frame, frame)\n\n    center = A2B[:3, 3]\n    phi, theta = np.mgrid[0.0:np.pi:100j, 0.0:2.0 * np.pi:100j]\n    X = center[0] + self.radius * np.sin(phi) * np.cos(theta)\n    Y = center[1] + self.radius * np.sin(phi) * np.sin(theta)\n    Z = center[2] + self.radius * np.cos(phi)\n\n    vertices = []\n    faces = []\n    for i in range(X.shape[0] - 1):\n        for j in range(X.shape[1] - 1):\n            v1 = [X[i, j], Y[i, j], Z[i, j]]\n            v2 = [X[i, j + 1], Y[i, j + 1], Z[i, j + 1]]\n            v3 = [X[i + 1, j], Y[i + 1, j], Z[i + 1, j]]\n            vertices.extend([v1, v2, v3])\n            faces.append(list(range(len(vertices) - 3, len(vertices))))\n    mesh = trimesh.Trimesh(vertices=vertices, faces=faces).convex_hull\n\n    mesh = pr.Mesh.from_trimesh(mesh)\n    scene.add(mesh)\n\n\nurdf.Sphere.show = sphere_show\n\n\ndef cylinder_show(self, scene, tm, frame):\n    \"\"\"Render cylinder.\"\"\"\n    A2B = tm.get_transform(self.frame, frame)\n\n    axis_start = A2B.dot(np.array([0, 0, -0.5 * self.length, 1]))[:3]\n    axis_end = A2B.dot(np.array([0, 0, 0.5 * self.length, 1]))[:3]\n    axis = axis_end - axis_start\n    axis /= self.length\n\n    not_axis = np.array([1, 0, 0])\n    if (axis == not_axis).all():\n        not_axis = np.array([0, 1, 0])\n\n    n1 = np.cross(axis, not_axis)\n    n1 /= np.linalg.norm(n1)\n    n2 = np.cross(axis, n1)\n\n    t = np.linspace(0, self.length, 3)\n    theta = np.linspace(0, 2 * np.pi, 50)\n    t, theta = np.meshgrid(t, theta)\n    X, Y, Z = [axis_start[i] + axis[i] * t +\n               self.radius * np.sin(theta) * n1[i] +\n               self.radius * np.cos(theta) * n2[i] for i in [0, 1, 2]]\n\n    vertices = []\n    faces = []\n    for i in range(X.shape[0] - 1):\n        for j in range(X.shape[1] - 1):\n            v1 = [X[i, j], Y[i, j], Z[i, j]]\n            v2 = [X[i, j + 1], Y[i, j + 1], Z[i, j + 1]]\n            v3 = [X[i + 1, j], Y[i + 1, j], Z[i + 1, j]]\n            vertices.extend([v1, v2, v3])\n            faces.append(list(range(len(vertices) - 3, len(vertices))))\n    mesh = trimesh.Trimesh(vertices=vertices, faces=faces).convex_hull\n\n    mesh = pr.Mesh.from_trimesh(mesh)\n    scene.add(mesh)\n\n\nurdf.Cylinder.show = cylinder_show\n\n\ndef mesh_show(self, scene, tm, frame):\n    \"\"\"Render mesh.\"\"\"\n    if self.mesh_path is None:\n        print(\"No mesh path given\")\n        return\n    A2B = tm.get_transform(self.frame, frame)\n\n    scale = self.scale\n    mesh = trimesh.load(self.filename)\n    mesh.vertices *= scale\n\n    mesh = pr.Mesh.from_trimesh(mesh)\n    scene.add(mesh, pose=A2B)\n\n\nurdf.Mesh.show = mesh_show\n\n\n# Load your own URDF here:\n# (this script should be started from the main directory)\nmesh_path = \"test/test_data/\"\nfilename = \"test/test_data/simple_mechanism.urdf\"\nframe = \"lower_cone\"\n\ntm = urdf.UrdfTransformManager()\nwith open(filename, \"r\") as f:\n    tm.load_urdf(f.read(), mesh_path=mesh_path)\ntm.set_joint(\"joint\", 0.25 * np.pi)\nshow_urdf_transform_manager(\n    tm, frame, visuals=True, collision_objects=False, frames=True, s=0.05)"
      ]
    }
  ],
  "metadata": {
    "kernelspec": {
      "display_name": "Python 3",
      "language": "python",
      "name": "python3"
    },
    "language_info": {
      "codemirror_mode": {
        "name": "ipython",
        "version": 3
      },
      "file_extension": ".py",
      "mimetype": "text/x-python",
      "name": "python",
      "nbconvert_exporter": "python",
      "pygments_lexer": "ipython3",
      "version": "3.8.2"
    }
  },
  "nbformat": 4,
  "nbformat_minor": 0
}