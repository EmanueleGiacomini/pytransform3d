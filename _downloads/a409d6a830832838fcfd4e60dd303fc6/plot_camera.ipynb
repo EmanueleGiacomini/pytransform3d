{
  "cells": [
    {
      "cell_type": "code",
      "execution_count": null,
      "metadata": {
        "collapsed": false
      },
      "outputs": [],
      "source": [
        "%matplotlib inline"
      ]
    },
    {
      "cell_type": "markdown",
      "metadata": {},
      "source": [
        "\n# Camera Transform\n\nWe can see the camera frame and the world frame. There is a grid of points from\nwhich we know the world coordinates. If we know the location and orientation of\nthe camera in the world, we can easily compute the location of the points on\nthe image.\n"
      ]
    },
    {
      "cell_type": "code",
      "execution_count": null,
      "metadata": {
        "collapsed": false
      },
      "outputs": [],
      "source": [
        "print(__doc__)\n\n\nimport numpy as np\nimport matplotlib.pyplot as plt\nfrom mpl_toolkits.mplot3d import proj3d\nfrom pytransform3d.rotations import active_matrix_from_intrinsic_euler_xyz\nfrom pytransform3d.transformations import transform_from, plot_transform\nfrom pytransform3d.camera import make_world_grid, world2image\n\n\ncam2world = transform_from(\n    active_matrix_from_intrinsic_euler_xyz([-np.pi + 1, -0.1, 0.3]),\n    [0.2, -1, 0.5])\nfocal_length = 0.0036\nsensor_size = (0.00367, 0.00274)\nimage_size = (640, 480)\n\nworld_grid = make_world_grid()\nimage_grid = world2image(world_grid, cam2world, sensor_size, image_size,\n                         focal_length)\n\nplt.figure(figsize=(12, 5))\ntry:\n    ax = plt.subplot(121, projection=\"3d\", aspect=\"equal\")\nexcept NotImplementedError:\n    # HACK: workaround for bug in new matplotlib versions (ca. 3.02):\n    # \"It is not currently possible to manually set the aspect\"\n    ax = plt.subplot(121, projection=\"3d\")\nax.view_init(elev=30, azim=-70)\nax.set_xlim((-1, 1))\nax.set_ylim((-1, 1))\nax.set_zlim((-1, 1))\nax.set_xlabel(\"X\")\nax.set_ylabel(\"Y\")\nax.set_zlabel(\"Z\")\nplot_transform(ax)\nplot_transform(ax, A2B=cam2world, s=0.3, name=\"Camera\")\nax.set_title(\"Camera and world frames\")\nax.scatter(world_grid[:, 0], world_grid[:, 1], world_grid[:, 2], alpha=0.2)\nax.scatter(world_grid[-1, 0], world_grid[-1, 1], world_grid[-1, 2], color=\"r\")\nax.view_init(elev=25, azim=-130)\n\nax = plt.subplot(122, aspect=\"equal\")\nax.set_title(\"Camera image\")\nax.set_xlim(0, image_size[0])\nax.set_ylim(0, image_size[1])\nax.scatter(image_grid[:, 0], -(image_grid[:, 1] - image_size[1]))\nax.scatter(image_grid[-1, 0], -(image_grid[-1, 1] - image_size[1]), color=\"r\")\n\nplt.show()"
      ]
    }
  ],
  "metadata": {
    "kernelspec": {
      "display_name": "Python 3",
      "language": "python",
      "name": "python3"
    },
    "language_info": {
      "codemirror_mode": {
        "name": "ipython",
        "version": 3
      },
      "file_extension": ".py",
      "mimetype": "text/x-python",
      "name": "python",
      "nbconvert_exporter": "python",
      "pygments_lexer": "ipython3",
      "version": "3.8.2"
    }
  },
  "nbformat": 4,
  "nbformat_minor": 0
}